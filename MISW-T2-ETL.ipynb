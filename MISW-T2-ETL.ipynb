{
 "cells": [
  {
   "cell_type": "markdown",
   "metadata": {},
   "source": [
    "# Tarea 2 - ETL"
   ]
  },
  {
   "cell_type": "markdown",
   "metadata": {},
   "source": [
    "## 1. Enunciado\t\n",
    "Enunciado\n",
    "Ahora que sabe cómo realizar un proceso ETL, dado el modelo multidimensional del proceso de negocio de movimientos de inventario realice las siguientes actividades:\n",
    "\n",
    "Entregable 1 - Diseño del ETL: diseñe el ETL para las dimensiones proveedor, tipoTransaccion y para la tabla de hechos. A nivel de la tabla de proveedores incluya la tabla categoriasProveedores donde encuentra información de las categorías. El diseño del ETL es un diagrama como lo encuentra en la infografía de proceso ETL.\n",
    "\n",
    "Entregable 2 - Implementación del ETL: implementación del proceso ETL para las dimensiones Proveedor, TipoTransaccion y para la tabla de hechos\n",
    "\n",
    "\n",
    "Note que para este proceso de negocio, las dimensiones Producto, Cliente y Fecha son iguales a las del hecho Orden, este caso se conoce como dimensiones compartidas. Usted debe concentrarse en las dimensiones Proveedor, TipoTransaccion y la tabla de hechos que no existen en la bodega de datos actualmente."
   ]
  },
  {
   "cell_type": "markdown",
   "metadata": {},
   "source": [
    "## 2. Modelo dimensional"
   ]
  },
  {
   "cell_type": "markdown",
   "metadata": {},
   "source": [
    "En este proceso de ETL, se extraen los datos de los **movimientos** de una base de datos transaccional y se almacenan en otra base de datos que corresponde a la bodega de datos, siguiendo una aproximación ROLAP. A continuación, se presenta el modelo multidimensional que es el modelo conceptual que representa el proceso de registro de movimientos. Este modelo se utilizó para crear las tablas en la bodega de datos que representan el proceso de negocio y que serán cargadas como resultado del proceso ETL."
   ]
  },
  {
   "cell_type": "markdown",
   "metadata": {},
   "source": [
    "![Modelo ordenes](./Modelo_movimiento.PNG)"
   ]
  },
  {
   "cell_type": "markdown",
   "metadata": {},
   "source": [
    "## 2. Diseño del ETL"
   ]
  },
  {
   "cell_type": "markdown",
   "metadata": {},
   "source": [
    "![Modelo ordenes](./Diseno-ETL-T2.JPEG)"
   ]
  },
  {
   "cell_type": "code",
   "execution_count": 1,
   "metadata": {},
   "outputs": [],
   "source": [
    "# Configuración servidor base de datos transaccional\n",
    "# Recuerde usar Estudiante_i como usuario y la contraseña asigana en el excel de conexión a maquina virtual como contraseña\n",
    "db_user = 'Estudiante_37'\n",
    "db_psswd = 'QV8UJT16LT'\n",
    "source_db_connection_string = 'jdbc:mysql://157.253.236.116:8080/WWImportersTransactional'\n",
    "\n",
    "dest_db_connection_string = 'jdbc:mysql://157.253.236.116:8080/Estudiante_37'\n",
    "\n",
    "# Driver de conexion\n",
    "path_jar_driver = 'C:\\Program Files (x86)\\MySQL\\Connector J 8.0\\mysql-connector-java-8.0.28.jar'"
   ]
  },
  {
   "cell_type": "code",
   "execution_count": 2,
   "metadata": {},
   "outputs": [],
   "source": [
    "import os \n",
    "from pyspark.sql import functions as f, SparkSession, types as t\n",
    "from pyspark import SparkContext, SparkConf, SQLContext\n",
    "from pyspark.sql.functions import udf, col, length, isnan, when, count, regexp_replace\n",
    "from datetime import datetime"
   ]
  },
  {
   "cell_type": "code",
   "execution_count": 3,
   "metadata": {},
   "outputs": [
    {
     "name": "stderr",
     "output_type": "stream",
     "text": [
      "C:\\Users\\estudiante\\anaconda3\\envs\\Tutoriales\\lib\\site-packages\\pyspark\\sql\\context.py:79: FutureWarning: Deprecated in 3.0.0. Use SparkSession.builder.getOrCreate() instead.\n",
      "  FutureWarning\n"
     ]
    }
   ],
   "source": [
    "#Configuración de la sesión\n",
    "conf=SparkConf() \\\n",
    "    .set('spark.driver.extraClassPath', path_jar_driver)\n",
    "\n",
    "spark_context = SparkContext(conf=conf)\n",
    "sql_context = SQLContext(spark_context)\n",
    "spark = sql_context.sparkSession"
   ]
  },
  {
   "cell_type": "markdown",
   "metadata": {},
   "source": [
    "### Conexión y carga de datos"
   ]
  },
  {
   "cell_type": "markdown",
   "metadata": {},
   "source": [
    "Se define la función para conexión y cargue de dataframes desde la base de datos origen y luego la función para guardar un dataframe en una tabla de la base de datos destino."
   ]
  },
  {
   "cell_type": "code",
   "execution_count": 4,
   "metadata": {},
   "outputs": [],
   "source": [
    "def obterner_dataframe_desde_csv(_PATH, _sep):\n",
    "    return spark.read.load(_PATH, format=\"csv\", sep=_sep, inferSchema=\"true\", header='true')\n",
    "\n",
    "def obtener_dataframe_de_bd(db_connection_string, sql, db_user, db_psswd):\n",
    "    df_bd = spark.read.format('jdbc')\\\n",
    "        .option('url', db_connection_string) \\\n",
    "        .option('dbtable', sql) \\\n",
    "        .option('user', db_user) \\\n",
    "        .option('password', db_psswd) \\\n",
    "        .option('driver', 'com.mysql.cj.jdbc.Driver') \\\n",
    "        .load()\n",
    "    return df_bd\n",
    "\n",
    "def guardar_db(db_connection_string, df, tabla, db_user, db_psswd):\n",
    "    df.select('*').write.format('jdbc') \\\n",
    "      .mode('append') \\\n",
    "      .option('url', db_connection_string) \\\n",
    "      .option('dbtable', tabla) \\\n",
    "      .option('user', db_user) \\\n",
    "      .option('password', db_psswd) \\\n",
    "      .option('driver', 'com.mysql.cj.jdbc.Driver') \\\n",
    "      .save()"
   ]
  },
  {
   "cell_type": "markdown",
   "metadata": {},
   "source": [
    "### BLOQUE 1\n",
    "Empezamos con el bloque 1: la dimensión <i>TipoTransaccion</i>, su fuente de datos viene de la tabla transaccional <i>TiposTransaccion</i>."
   ]
  },
  {
   "cell_type": "markdown",
   "metadata": {},
   "source": [
    "#### Extracción\n",
    "A continuación, nos conectamos a la base de datos y extraemos la información deseada por medio de SQL, cargandola en un DataFrame PySpark, es decir en memoria. Note que aquí se pueden renombrar los atributos con la estructura <i>nombreActual AS nuevoNombre</i>. De la tabla de personas, En este paso, solo nos interesan los empleados, por lo cual se hace un filtro por medio del WHERE, buscando las personas cuyo atributo EsVendedor sea igual a 1."
   ]
  },
  {
   "cell_type": "code",
   "execution_count": 5,
   "metadata": {},
   "outputs": [
    {
     "name": "stdout",
     "output_type": "stream",
     "text": [
      "+-------------------+--------------------+\n",
      "|ID_Tipo_transaccion|                Tipo|\n",
      "+-------------------+--------------------+\n",
      "|                  2|Customer Credit Note|\n",
      "|                  3|Customer Payment ...|\n",
      "|                  4|     Customer Refund|\n",
      "|                  5|    Supplier Invoice|\n",
      "|                  6|Supplier Credit Note|\n",
      "+-------------------+--------------------+\n",
      "only showing top 5 rows\n",
      "\n"
     ]
    }
   ],
   "source": [
    "sql_tipo_transaccion = '''(SELECT TipoTransaccionID AS ID_Tipo_transaccion, TipoTransaccionNombre as Tipo FROM WWImportersTransactional.TiposTransaccion) AS Temp_tipo_transaccion'''\n",
    "tipos_transaccion = obtener_dataframe_de_bd(source_db_connection_string, sql_tipo_transaccion, db_user, db_psswd)\n",
    "tipos_transaccion.show(5)"
   ]
  },
  {
   "cell_type": "markdown",
   "metadata": {},
   "source": [
    "#### Transformación\n",
    "En este caso no se hará ninguna transaformación."
   ]
  },
  {
   "cell_type": "code",
   "execution_count": 6,
   "metadata": {},
   "outputs": [
    {
     "name": "stdout",
     "output_type": "stream",
     "text": [
      "+-------------------+--------------------+\n",
      "|ID_Tipo_transaccion|                Tipo|\n",
      "+-------------------+--------------------+\n",
      "|                  2|Customer Credit Note|\n",
      "|                  3|Customer Payment ...|\n",
      "|                  4|     Customer Refund|\n",
      "|                  5|    Supplier Invoice|\n",
      "|                  6|Supplier Credit Note|\n",
      "+-------------------+--------------------+\n",
      "only showing top 5 rows\n",
      "\n"
     ]
    }
   ],
   "source": [
    "# TRANSFORMACION\n",
    "tipos_transaccion = tipos_transaccion.selectExpr('ID_Tipo_transaccion','Tipo')\n",
    "tipos_transaccion.show(5)"
   ]
  },
  {
   "cell_type": "markdown",
   "metadata": {},
   "source": [
    "#### Carga\n",
    "Una vez realizado esto, se guardan los resultados en la base de datos destino"
   ]
  },
  {
   "cell_type": "code",
   "execution_count": 13,
   "metadata": {},
   "outputs": [],
   "source": [
    "# CARGUE\n",
    "guardar_db(dest_db_connection_string, tipos_transaccion,'Estudiante_37.TipoTransaccion', db_user, db_psswd)"
   ]
  },
  {
   "cell_type": "markdown",
   "metadata": {},
   "source": [
    "Verifique los resultados usando MySQL Workbench"
   ]
  },
  {
   "cell_type": "markdown",
   "metadata": {},
   "source": [
    "### BLOQUE 2\n",
    "Empezamos el bloque 2: dimensión Proveedor. Su fuente de datos es una combinación de las tablas transaccionales <i>CategoriasProveedores, Proveedores y  Personas</i>"
   ]
  },
  {
   "cell_type": "markdown",
   "metadata": {},
   "source": [
    "#### Extracción"
   ]
  },
  {
   "cell_type": "code",
   "execution_count": 25,
   "metadata": {},
   "outputs": [
    {
     "name": "stdout",
     "output_type": "stream",
     "text": [
      "['CategoriaProveedorID', 'Categoria'] ['ID_Proveedor', 'Nombre', 'Contacto_Principal', 'Dias_pago', 'Codigo_postal', 'CategoriaProveedorID'] 13\n"
     ]
    }
   ],
   "source": [
    "#EXTRACCION\n",
    "sql_categorias_proveedores = '''(SELECT CategoriaProveedorID, CategoriaProveedor as Categoria FROM WWImportersTransactional.CategoriasProveedores) AS Temp_CategoriasProveedores'''\n",
    "sql_proveedores = '''(SELECT ProveedorID as ID_Proveedor, NombreProveedor as Nombre, PersonaContactoPrincipalID as Contacto_Principal, DiasPago as Dias_pago, CodigoPostal as Codigo_postal, CategoriaProveedorID FROM WWImportersTransactional.Proveedores) AS Temp_Proveedores'''\n",
    "categorias_proveedores = obtener_dataframe_de_bd(source_db_connection_string, sql_categorias_proveedores, db_user, db_psswd)\n",
    "proveedores = obtener_dataframe_de_bd(source_db_connection_string, sql_proveedores, db_user, db_psswd)\n",
    "\n",
    "print(categorias_proveedores.columns, proveedores.columns, proveedores.count())"
   ]
  },
  {
   "cell_type": "markdown",
   "metadata": {},
   "source": [
    "#### Transformación\n",
    "Estas son las respuestas de Wide World Importers a los conclusiones obtenidas en el entendimiento de los datos:\n",
    "- Transf 1. Los valores de  día de pago negativos se deben multiplicar por -1.\n",
    "- Transf 2. Unificar Proveedores, los nombres debe ser únicos. Tener en cuenta que hay nombres con el mismo nombre más un \"Inc\" o \"Ltd\".\n",
    "- Transf 3. Validar código postal no es el mismo para todos los proveedores\n",
    "- Transf 4. Generar códigos propios de la bodega de datos."
   ]
  },
  {
   "cell_type": "markdown",
   "metadata": {},
   "source": [
    "Se hace la correción a los valores de Dias_pago negativos"
   ]
  },
  {
   "cell_type": "code",
   "execution_count": 26,
   "metadata": {},
   "outputs": [
    {
     "name": "stdout",
     "output_type": "stream",
     "text": [
      "6 7\n",
      "+------------+-------------------+------------------+---------+-------------+--------------------+\n",
      "|ID_Proveedor|             Nombre|Contacto_Principal|Dias_pago|Codigo_postal|CategoriaProveedorID|\n",
      "+------------+-------------------+------------------+---------+-------------+--------------------+\n",
      "|           2|      Contoso, Ltd.|                23|       -7|        98253|                   2|\n",
      "|           6|Humongous Insurance|                31|      -14|        37770|                   9|\n",
      "|           8| Lucerne Publishing|                35|      -30|        37659|                   2|\n",
      "|           1|A Datum Corporation|                21|      -14|        46077|                   2|\n",
      "|          11|      Trey Research|                41|       -7|        57543|                   8|\n",
      "+------------+-------------------+------------------+---------+-------------+--------------------+\n",
      "only showing top 5 rows\n",
      "\n",
      "None\n",
      "+------------+--------------------+------------------+---------+-------------+--------------------+\n",
      "|ID_Proveedor|              Nombre|Contacto_Principal|Dias_pago|Codigo_postal|CategoriaProveedorID|\n",
      "+------------+--------------------+------------------+---------+-------------+--------------------+\n",
      "|           2|       Contoso, Ltd.|                23|        7|        98253|                   2|\n",
      "|           6| Humongous Insurance|                31|       14|        37770|                   9|\n",
      "|           8|  Lucerne Publishing|                35|       30|        37659|                   2|\n",
      "|           1| A Datum Corporation|                21|       14|        46077|                   2|\n",
      "|          11|       Trey Research|                41|        7|        57543|                   8|\n",
      "|           3|Consolidated Mess...|                25|       30|        94101|                   6|\n",
      "|           4|      Fabrikam, Inc.|                27|       30|        40351|                   4|\n",
      "|           5|Graphic Design In...|                29|       14|        64847|                   2|\n",
      "|           7|       Litware, Inc.|                33|       30|        95245|                   5|\n",
      "|           9|      Nod Publishers|                37|        7|        27906|                   2|\n",
      "|          10|Northwind Electri...|                39|       30|         7860|                   3|\n",
      "|          12|   The Phone Company|                43|       30|        56732|                   2|\n",
      "|          13|      Woodgrove Bank|                45|        7|        94101|                   7|\n",
      "+------------+--------------------+------------------+---------+-------------+--------------------+\n",
      "\n"
     ]
    }
   ],
   "source": [
    "# TRANSFORMACION\n",
    "proveedoresDiaPagoNegativo = proveedores.filter(proveedores[\"Dias_pago\"] < 0)\n",
    "proveedoresDiaPagoPositivo = proveedores.filter(~(proveedores[\"Dias_pago\"] < 0))\n",
    "print(proveedoresDiaPagoNegativo.count(), proveedoresDiaPagoPositivo.count())\n",
    "print(proveedoresDiaPagoNegativo.show(5))\n",
    "proveedoresDiaPagoNegativo = proveedoresDiaPagoNegativo.withColumn('Dias_pago', f.udf(lambda dp: dp * -1, t.IntegerType())(f.col('Dias_pago')))\n",
    "proveedores = proveedoresDiaPagoNegativo.union(proveedoresDiaPagoPositivo)\n",
    "proveedoresDiaPagoNegativo.count(), proveedores.count()\n",
    "proveedores.show()"
   ]
  },
  {
   "cell_type": "markdown",
   "metadata": {},
   "source": [
    "Se hace la unificación de nombres"
   ]
  },
  {
   "cell_type": "code",
   "execution_count": 27,
   "metadata": {},
   "outputs": [
    {
     "name": "stdout",
     "output_type": "stream",
     "text": [
      "0 13\n",
      "+------------+------+------------------+---------+-------------+--------------------+\n",
      "|ID_Proveedor|Nombre|Contacto_Principal|Dias_pago|Codigo_postal|CategoriaProveedorID|\n",
      "+------------+------+------------------+---------+-------------+--------------------+\n",
      "+------------+------+------------------+---------+-------------+--------------------+\n",
      "\n",
      "None\n",
      "{'Contoso, Ltd.': 2, 'Trey Research': 11, 'Humongous Insurance': 6, 'A Datum Corporation': 1, 'Lucerne Publishing': 8, 'Consolidated Messenger': 3, 'The Phone Company': 12, 'Woodgrove Bank': 13, 'Nod Publishers': 9, 'Graphic Design Institute': 5, 'Litware, Inc.': 7, 'Northwind Electric Cars': 10, 'Fabrikam, Inc.': 4}\n",
      "13 13\n",
      "+------------+--------------------+------------------+---------+-------------+--------------------+\n",
      "|ID_Proveedor|              Nombre|Contacto_Principal|Dias_pago|Codigo_postal|CategoriaProveedorID|\n",
      "+------------+--------------------+------------------+---------+-------------+--------------------+\n",
      "|           3|Consolidated Mess...|                25|       30|        94101|                   6|\n",
      "|           1| A Datum Corporation|                21|       14|        46077|                   2|\n",
      "|           2|       Contoso, Ltd.|                23|        7|        98253|                   2|\n",
      "|           6| Humongous Insurance|                31|       14|        37770|                   9|\n",
      "|          11|       Trey Research|                41|        7|        57543|                   8|\n",
      "|           8|  Lucerne Publishing|                35|       30|        37659|                   2|\n",
      "|           4|      Fabrikam, Inc.|                27|       30|        40351|                   4|\n",
      "|           5|Graphic Design In...|                29|       14|        64847|                   2|\n",
      "|           9|      Nod Publishers|                37|        7|        27906|                   2|\n",
      "|           7|       Litware, Inc.|                33|       30|        95245|                   5|\n",
      "|          13|      Woodgrove Bank|                45|        7|        94101|                   7|\n",
      "|          10|Northwind Electri...|                39|       30|         7860|                   3|\n",
      "|          12|   The Phone Company|                43|       30|        56732|                   2|\n",
      "+------------+--------------------+------------------+---------+-------------+--------------------+\n",
      "\n"
     ]
    }
   ],
   "source": [
    "# TRANSFORMACION\n",
    "import re\n",
    "# Se probo la transformación con proveedores copia.\n",
    "# sql_proveedores_copia = '''(SELECT ProveedorID as ID_Proveedor, NombreProveedor as Nombre, PersonaContactoPrincipalID as Contacto_Principal, DiasPago as Dias_pago, CodigoPostal as Codigo_postal, CategoriaProveedorID FROM WWImportersTransactional.provedoresCopia) AS Temp_Proveedores_copia'''\n",
    "# proveedores_copia = obtener_dataframe_de_bd(source_db_connection_string, sql_proveedores_copia, db_user, db_psswd)\n",
    "\n",
    "regex = \"([a-zA-Z]+\\s(Inc. Ltd|Inc.|Inc|Ltd.|Ltd)+)\"\n",
    "proveedoresNombreConSufijo = proveedores.filter(proveedores[\"Nombre\"].rlike(regex))\n",
    "proveedoresNombreSinSufijo = proveedores.filter(~(proveedores[\"Nombre\"].rlike(regex)))\n",
    "print(proveedoresNombreConSufijo.count(), proveedoresNombreSinSufijo.count())\n",
    "print(proveedoresNombreConSufijo.show(5))\n",
    "\n",
    "proveedoresNombreConSufijo = proveedoresNombreConSufijo.withColumn('Nombre', f.udf(lambda n: n.replace(re.search(regex, n).groups()[1], \"\").strip(), t.StringType())(f.col('Nombre')))\n",
    "proveedores = proveedoresNombreConSufijo.union(proveedoresNombreSinSufijo)\n",
    "dict_of_unique_ids = {row[0]: row[1] for row in proveedores.groupBy(\"Nombre\").min(\"ID_Proveedor\").collect() }\n",
    "print(dict_of_unique_ids)\n",
    "if dict_of_unique_ids:\n",
    "    proveedores = proveedores.withColumn('ID_Proveedor', f.udf(lambda n: dict_of_unique_ids[n], t.IntegerType())(f.col('Nombre')))\n",
    "\n",
    "print(proveedores.count(), proveedores.distinct().count())\n",
    "proveedores = proveedores.drop_duplicates()\n",
    "proveedores.show()"
   ]
  },
  {
   "cell_type": "markdown",
   "metadata": {},
   "source": [
    "Validar código postal no es el mismo para todos los proveedores, si bien hay dos proveedores con el mismo código postal es una situación normal porque más de un proveedor podrían pertenecer a la misma ciudad."
   ]
  },
  {
   "cell_type": "code",
   "execution_count": 13,
   "metadata": {},
   "outputs": [
    {
     "data": {
      "text/plain": [
       "(13, 12)"
      ]
     },
     "execution_count": 13,
     "metadata": {},
     "output_type": "execute_result"
    }
   ],
   "source": [
    "proveedores.count(), proveedores.select(\"Codigo_postal\").distinct().count()"
   ]
  },
  {
   "cell_type": "code",
   "execution_count": 28,
   "metadata": {},
   "outputs": [
    {
     "name": "stdout",
     "output_type": "stream",
     "text": [
      "+--------------------+------------+--------------------+------------------+---------+-------------+--------------------+\n",
      "|CategoriaProveedorID|ID_Proveedor|              Nombre|Contacto_Principal|Dias_pago|Codigo_postal|           Categoria|\n",
      "+--------------------+------------+--------------------+------------------+---------+-------------+--------------------+\n",
      "|                   6|           3|Consolidated Mess...|                25|       30|        94101|servicios de mens...|\n",
      "|                   3|          10|Northwind Electri...|                39|       30|         7860|            juguetes|\n",
      "|                   5|           7|       Litware, Inc.|                33|       30|        95245|            embalaje|\n",
      "|                   9|           6| Humongous Insurance|                31|       14|        37770|servicios de seguros|\n",
      "|                   4|           4|      Fabrikam, Inc.|                27|       30|        40351|                ropa|\n",
      "|                   8|          11|       Trey Research|                41|        7|        57543|servicios de mark...|\n",
      "|                   7|          13|      Woodgrove Bank|                45|        7|        94101|servicios financi...|\n",
      "|                   2|          12|   The Phone Company|                43|       30|        56732| productos novedosos|\n",
      "|                   2|           9|      Nod Publishers|                37|        7|        27906| productos novedosos|\n",
      "|                   2|           5|Graphic Design In...|                29|       14|        64847| productos novedosos|\n",
      "|                   2|           8|  Lucerne Publishing|                35|       30|        37659| productos novedosos|\n",
      "|                   2|           2|       Contoso, Ltd.|                23|        7|        98253| productos novedosos|\n",
      "|                   2|           1| A Datum Corporation|                21|       14|        46077| productos novedosos|\n",
      "+--------------------+------------+--------------------+------------------+---------+-------------+--------------------+\n",
      "\n"
     ]
    }
   ],
   "source": [
    "# TRANSFORMACION\n",
    "proveedores = proveedores.join(categorias_proveedores, how = 'inner', on = 'CategoriaProveedorID')\n",
    "proveedores.show()"
   ]
  },
  {
   "cell_type": "code",
   "execution_count": 29,
   "metadata": {},
   "outputs": [
    {
     "name": "stdout",
     "output_type": "stream",
     "text": [
      "+------------+--------------------+------------------+---------+--------------------+-------------+\n",
      "|ID_Proveedor|              Nombre|Contacto_Principal|Dias_pago|           Categoria|Codigo_postal|\n",
      "+------------+--------------------+------------------+---------+--------------------+-------------+\n",
      "|           3|Consolidated Mess...|                25|       30|servicios de mens...|        94101|\n",
      "|          10|Northwind Electri...|                39|       30|            juguetes|         7860|\n",
      "|           7|       Litware, Inc.|                33|       30|            embalaje|        95245|\n",
      "|           6| Humongous Insurance|                31|       14|servicios de seguros|        37770|\n",
      "|           4|      Fabrikam, Inc.|                27|       30|                ropa|        40351|\n",
      "|          11|       Trey Research|                41|        7|servicios de mark...|        57543|\n",
      "|          13|      Woodgrove Bank|                45|        7|servicios financi...|        94101|\n",
      "|          12|   The Phone Company|                43|       30| productos novedosos|        56732|\n",
      "|           9|      Nod Publishers|                37|        7| productos novedosos|        27906|\n",
      "|           5|Graphic Design In...|                29|       14| productos novedosos|        64847|\n",
      "|           8|  Lucerne Publishing|                35|       30| productos novedosos|        37659|\n",
      "|           2|       Contoso, Ltd.|                23|        7| productos novedosos|        98253|\n",
      "|           1| A Datum Corporation|                21|       14| productos novedosos|        46077|\n",
      "+------------+--------------------+------------------+---------+--------------------+-------------+\n",
      "\n"
     ]
    }
   ],
   "source": [
    "proveedores = proveedores.selectExpr('ID_Proveedor', 'Nombre', 'Contacto_Principal', 'Dias_pago', 'Categoria', 'Codigo_postal')\n",
    "proveedores.show()"
   ]
  },
  {
   "cell_type": "markdown",
   "metadata": {},
   "source": [
    "#### Carga"
   ]
  },
  {
   "cell_type": "code",
   "execution_count": 31,
   "metadata": {},
   "outputs": [],
   "source": [
    "# CARGUE\n",
    "guardar_db(dest_db_connection_string, proveedores,'Estudiante_37.Proveedor', db_user, db_psswd)"
   ]
  },
  {
   "cell_type": "markdown",
   "metadata": {},
   "source": [
    "### BLOQUE 3\n",
    "Bloque 6: Hecho movimiento. Su fuente de datos es la tabla movimientos"
   ]
  },
  {
   "cell_type": "markdown",
   "metadata": {},
   "source": [
    "#### Extracción"
   ]
  },
  {
   "cell_type": "code",
   "execution_count": 73,
   "metadata": {},
   "outputs": [],
   "source": [
    "sql_movimientos = '''(SELECT\n",
    "TransactionOccurredWhen as Fecha_Movimiento,\n",
    "StockItemID as ID_Producto,\n",
    "SupplierID as ID_Proveedor,\n",
    "CustomerID as ID_Cliente,\n",
    "TransactionTypeID as ID_Tipo_Transaccion,\n",
    "Quantity as Cantidad FROM WWImportersTransactional.movimientos) AS Temp_movimientos'''\n",
    "movimientos = obtener_dataframe_de_bd(source_db_connection_string, sql_movimientos, db_user, db_psswd)"
   ]
  },
  {
   "cell_type": "markdown",
   "metadata": {},
   "source": [
    "#### Transformación\n",
    "Estas son las respuestas de Wide World Importers a los conclusiones obtenidas en el entendimiento de los datos:\n",
    "- Transf 1. Eliminar los registros duplicados.\n",
    "- Transf 2. Verificar que las cantidades negativas  equivalen a salidas de productos del inventario (Sería según el tipo de transacción).\n",
    "- Transf 3. Verificar que existan movimientos con una antiguedad menor a 2014\n",
    "- Transf 4. Transformar las fechas según esta regla: YYYY-MM-DD HH:MM:SS si tienen hora, minutos y segundos. De lo contrario el formato es YYYY-MM-DD\n"
   ]
  },
  {
   "cell_type": "markdown",
   "metadata": {},
   "source": [
    "Se hace una verificación de los valores de la tasa de impuesto"
   ]
  },
  {
   "cell_type": "code",
   "execution_count": 74,
   "metadata": {},
   "outputs": [
    {
     "data": {
      "text/plain": [
       "(267300, 236656)"
      ]
     },
     "execution_count": 74,
     "metadata": {},
     "output_type": "execute_result"
    }
   ],
   "source": [
    "movimientos.count(), movimientos.distinct().count()"
   ]
  },
  {
   "cell_type": "code",
   "execution_count": 75,
   "metadata": {},
   "outputs": [
    {
     "name": "stdout",
     "output_type": "stream",
     "text": [
      "236656 236656\n",
      "+----------------+-----------+------------+----------+-------------------+--------+\n",
      "|Fecha_Movimiento|ID_Producto|ID_Proveedor|ID_Cliente|ID_Tipo_Transaccion|Cantidad|\n",
      "+----------------+-----------+------------+----------+-------------------+--------+\n",
      "|     Jan 03,2015|         39|            |     512.0|                 10|   -10.0|\n",
      "|     Aug 03,2015|         45|            |     862.0|                 10|   -10.0|\n",
      "|     May 12,2015|          9|            |     478.0|                 10|   -10.0|\n",
      "|     May 07,2014|        215|            |      14.0|                 10|   -10.0|\n",
      "|     Dec 28,2015|         71|            |     870.0|                 10|   -10.0|\n",
      "+----------------+-----------+------------+----------+-------------------+--------+\n",
      "only showing top 5 rows\n",
      "\n"
     ]
    }
   ],
   "source": [
    "# se eliminan los duplicados\n",
    "movimientos = movimientos.drop_duplicates()\n",
    "print(movimientos.count(), movimientos.distinct().count())\n",
    "movimientos.show(5)"
   ]
  },
  {
   "cell_type": "markdown",
   "metadata": {},
   "source": [
    "Verificar que las cantidades negativas  equivalen a salidas de productos del inventario y corregir de ser necesario."
   ]
  },
  {
   "cell_type": "code",
   "execution_count": 76,
   "metadata": {},
   "outputs": [
    {
     "data": {
      "text/plain": [
       "(228275, 228254)"
      ]
     },
     "execution_count": 76,
     "metadata": {},
     "output_type": "execute_result"
    }
   ],
   "source": [
    "# transaccion de salida ID = 10\n",
    "movimientosConCantidadNegativa = movimientos.filter(movimientos[\"Cantidad\"] < 0)\n",
    "movimientosDeSalida = movimientos.filter(movimientos[\"ID_Tipo_Transaccion\"] == 10)\n",
    "movimientosConCantidadNegativa.count(), movimientosDeSalida.count()"
   ]
  },
  {
   "cell_type": "markdown",
   "metadata": {},
   "source": [
    "Se obtienen los registros que deben ser corregidos"
   ]
  },
  {
   "cell_type": "code",
   "execution_count": 77,
   "metadata": {},
   "outputs": [
    {
     "name": "stdout",
     "output_type": "stream",
     "text": [
      "236656 8381 21\n",
      "+--------------------+-----------+------------+----------+-------------------+--------+\n",
      "|    Fecha_Movimiento|ID_Producto|ID_Proveedor|ID_Cliente|ID_Tipo_Transaccion|Cantidad|\n",
      "+--------------------+-----------+------------+----------+-------------------+--------+\n",
      "|         Jan 31,2015|        205|            |       0.0|                 12|    -5.0|\n",
      "|2013-07-31 14:00:...|        158|            |       0.0|                 12|    -4.0|\n",
      "|2016-04-30 14:00:...|         82|            |       0.0|                 12|    -4.0|\n",
      "|2014-07-31 14:00:...|        121|            |       0.0|                 12|    -4.0|\n",
      "|         Oct 31,2015|         24|            |       0.0|                 12|    -5.0|\n",
      "+--------------------+-----------+------------+----------+-------------------+--------+\n",
      "only showing top 5 rows\n",
      "\n"
     ]
    }
   ],
   "source": [
    "movimientosPorCorregir = movimientos.filter(movimientos[\"ID_Tipo_Transaccion\"] != 10).filter(movimientos[\"Cantidad\"] < 0)\n",
    "restoDeMovimientos = movimientos.filter(~(movimientos[\"Cantidad\"] < 0))\n",
    "print(movimientos.count(), restoDeMovimientos.count(), movimientosPorCorregir.count())\n",
    "movimientosPorCorregir.show(5)"
   ]
  },
  {
   "cell_type": "markdown",
   "metadata": {},
   "source": [
    "Corregir movimientos de salida"
   ]
  },
  {
   "cell_type": "code",
   "execution_count": 78,
   "metadata": {},
   "outputs": [
    {
     "name": "stdout",
     "output_type": "stream",
     "text": [
      "+--------------------+-----------+------------+----------+-------------------+--------+\n",
      "|    Fecha_Movimiento|ID_Producto|ID_Proveedor|ID_Cliente|ID_Tipo_Transaccion|Cantidad|\n",
      "+--------------------+-----------+------------+----------+-------------------+--------+\n",
      "|         Jan 31,2015|        205|            |       0.0|                 10|    -5.0|\n",
      "|2013-07-31 14:00:...|        158|            |       0.0|                 10|    -4.0|\n",
      "|2016-04-30 14:00:...|         82|            |       0.0|                 10|    -4.0|\n",
      "|2014-07-31 14:00:...|        121|            |       0.0|                 10|    -4.0|\n",
      "|         Oct 31,2015|         24|            |       0.0|                 10|    -5.0|\n",
      "|2015-01-31 14:00:...|        144|            |       0.0|                 10|    -4.0|\n",
      "|2015-04-30 14:00:...|         98|            |       0.0|                 10|    -3.0|\n",
      "|         Oct 31,2014|         21|            |       0.0|                 10|    -5.0|\n",
      "|2014-01-31 14:00:...|        183|            |       0.0|                 10|    -1.0|\n",
      "|2014-07-31 14:00:...|          7|            |       0.0|                 10|    -2.0|\n",
      "|         Apr 30,2016|        125|            |       0.0|                 10|    -5.0|\n",
      "|2014-04-30 14:00:...|         24|            |       0.0|                 10|    -5.0|\n",
      "|2014-07-31 14:00:...|         48|            |       0.0|                 10|    -2.0|\n",
      "|         Oct 31,2014|         21|            |       0.0|                 10|    -4.0|\n",
      "|2015-10-31 14:00:...|        204|            |       0.0|                 10|    -4.0|\n",
      "|2014-04-30 14:00:...|         55|            |       0.0|                 10|    -5.0|\n",
      "|2013-01-31 14:00:...|         15|            |       0.0|                 10|    -2.0|\n",
      "|2014-10-31 14:00:...|        179|            |       0.0|                 10|    -1.0|\n",
      "|2015-10-31 14:00:...|          7|            |       0.0|                 10|    -3.0|\n",
      "|2015-04-30 14:00:...|         74|            |       0.0|                 10|    -3.0|\n",
      "+--------------------+-----------+------------+----------+-------------------+--------+\n",
      "only showing top 20 rows\n",
      "\n"
     ]
    },
    {
     "data": {
      "text/plain": [
       "(236656, 228275, 8381)"
      ]
     },
     "execution_count": 78,
     "metadata": {},
     "output_type": "execute_result"
    }
   ],
   "source": [
    "movimientosPorCorregir = movimientosPorCorregir.withColumn('ID_Tipo_Transaccion', f.udf(lambda n: 10, t.IntegerType())(f.col('ID_Tipo_Transaccion')))\n",
    "movimientosPorCorregir.show()\n",
    "movimientosDeSalida = movimientosDeSalida.union(movimientosPorCorregir)\n",
    "movimientos = movimientosDeSalida.union(restoDeMovimientos)\n",
    "movimientos.count(), movimientosDeSalida.count(), restoDeMovimientos.count()"
   ]
  },
  {
   "cell_type": "markdown",
   "metadata": {},
   "source": [
    "Verificar que existan movimientos con una antiguedad menor a 2014\n"
   ]
  },
  {
   "cell_type": "code",
   "execution_count": 79,
   "metadata": {},
   "outputs": [
    {
     "name": "stdout",
     "output_type": "stream",
     "text": [
      "+---------------------+\n",
      "|min(Fecha_Movimiento)|\n",
      "+---------------------+\n",
      "| 2013-01-01 12:00:...|\n",
      "+---------------------+\n",
      "\n"
     ]
    }
   ],
   "source": [
    "movimientos.agg({\"Fecha_Movimiento\": \"min\"}).show()"
   ]
  },
  {
   "cell_type": "markdown",
   "metadata": {},
   "source": [
    "Transformar las fechas según esta regla: YYYY-MM-DD HH:MM:SS si tienen hora, minutos y segundos. De lo contrario el formato es YYYY-MM-DD"
   ]
  },
  {
   "cell_type": "markdown",
   "metadata": {},
   "source": [
    "En el siguiente código para el manejo de fechas, pasamos del formato MM dd,YYYY al formato establecido en la regla de negocio<br>"
   ]
  },
  {
   "cell_type": "code",
   "execution_count": 80,
   "metadata": {},
   "outputs": [
    {
     "name": "stdout",
     "output_type": "stream",
     "text": [
      "64254 172402\n",
      "+----------------+-----------+------------+----------+-------------------+--------+\n",
      "|Fecha_Movimiento|ID_Producto|ID_Proveedor|ID_Cliente|ID_Tipo_Transaccion|Cantidad|\n",
      "+----------------+-----------+------------+----------+-------------------+--------+\n",
      "|     Jan 03,2015|         39|            |     512.0|                 10|   -10.0|\n",
      "|     Aug 03,2015|         45|            |     862.0|                 10|   -10.0|\n",
      "|     May 12,2015|          9|            |     478.0|                 10|   -10.0|\n",
      "|     May 07,2014|        215|            |      14.0|                 10|   -10.0|\n",
      "|     Dec 28,2015|         71|            |     870.0|                 10|   -10.0|\n",
      "+----------------+-----------+------------+----------+-------------------+--------+\n",
      "only showing top 5 rows\n",
      "\n",
      "None\n"
     ]
    },
    {
     "data": {
      "text/plain": [
       "(64254, 236656)"
      ]
     },
     "execution_count": 80,
     "metadata": {},
     "output_type": "execute_result"
    }
   ],
   "source": [
    "# TRANSFORMACION\n",
    "regex = \"([0-2]\\d{3}-(0[1-9]|1[0-2])-(0[1-9]|[1-2][0-9]|3[0-1]))\"\n",
    "cumplenFormato = movimientos.filter(movimientos[\"Fecha_Movimiento\"].rlike(regex))\n",
    "noCumplenFormato = movimientos.filter(~movimientos[\"Fecha_Movimiento\"].rlike(regex))\n",
    "print(noCumplenFormato.count(), cumplenFormato.count())\n",
    "print(noCumplenFormato.show(5))\n",
    "noCumplenFormato = noCumplenFormato.withColumn('Fecha_Movimiento', f.udf(lambda d: datetime.strptime(d, '%b %d,%Y').strftime('%Y-%m-%d'), t.StringType())(f.col('Fecha_Movimiento')))\n",
    "movimientos = noCumplenFormato.union(cumplenFormato)\n",
    "noCumplenFormato.count(), movimientos.count()"
   ]
  },
  {
   "cell_type": "markdown",
   "metadata": {},
   "source": [
    "#### Carga"
   ]
  },
  {
   "cell_type": "code",
   "execution_count": null,
   "metadata": {},
   "outputs": [
    {
     "name": "stdout",
     "output_type": "stream",
     "text": [
      "236.656\n",
      "0\n",
      "50\n",
      "100\n",
      "150\n",
      "200\n"
     ]
    }
   ],
   "source": [
    "# CARGUE\n",
    "inferior = 0\n",
    "superior = 999\n",
    "j=0\n",
    "total = movimientos.count()/1000\n",
    "print(total)\n",
    "collected = movimientos.collect()\n",
    "while j<total:\n",
    "    if j%50==0:\n",
    "        print(j)\n",
    "    j += 1\n",
    "    aux = spark.createDataFrame(collected[inferior:superior],movimientos.columns)\n",
    "    guardar_db(dest_db_connection_string, aux,'Estudiante_37.Hecho_Movimiento', db_user, db_psswd)\n",
    "    inferior+=1000\n",
    "    superior+=1000"
   ]
  },
  {
   "cell_type": "markdown",
   "metadata": {},
   "source": [
    "Fin de la carga"
   ]
  },
  {
   "cell_type": "code",
   "execution_count": null,
   "metadata": {},
   "outputs": [],
   "source": []
  }
 ],
 "metadata": {
  "kernelspec": {
   "display_name": "Python 3 (ipykernel)",
   "language": "python",
   "name": "python3"
  },
  "language_info": {
   "codemirror_mode": {
    "name": "ipython",
    "version": 3
   },
   "file_extension": ".py",
   "mimetype": "text/x-python",
   "name": "python",
   "nbconvert_exporter": "python",
   "pygments_lexer": "ipython3",
   "version": "3.7.13"
  }
 },
 "nbformat": 4,
 "nbformat_minor": 4
}
